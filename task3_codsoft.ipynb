{
 "cells": [
  {
   "cell_type": "code",
   "execution_count": null,
   "id": "cc20160d-9dc4-4239-8e39-66444c499e66",
   "metadata": {},
   "outputs": [
    {
     "name": "stdout",
     "output_type": "stream",
     "text": [
      "Password Generator\n",
      "------------------\n"
     ]
    }
   ],
   "source": [
    "import random\n",
    "import string\n",
    "\n",
    "def generate_password(length):\n",
    "    \"\"\"\n",
    "    Generate a password of the specified length using a combination of random characters.\n",
    "    \"\"\"\n",
    "    characters = string.ascii_letters + string.digits + string.punctuation\n",
    "    password = ''.join(random.choice(characters) for _ in range(length))\n",
    "    return password\n",
    "\n",
    "def main():\n",
    "    \"\"\"\n",
    "    Main function to prompt the user for password length and generate a password.\n",
    "    \"\"\"\n",
    "    print(\"Password Generator\")\n",
    "    print(\"------------------\")\n",
    "\n",
    "    # Prompt the user to specify the desired length of the password\n",
    "    while True:\n",
    "        try:\n",
    "            length = int(input(\"Enter the desired length of the password: \"))\n",
    "            if length < 8:\n",
    "                print(\"Password length should be at least 8 characters.\")\n",
    "                continue\n",
    "            break\n",
    "        except ValueError:\n",
    "            print(\"Invalid input. Please enter a positive integer.\")\n",
    "\n",
    "    # Generate the password\n",
    "    password = generate_password(length)\n",
    "\n",
    "    # Display the generated password\n",
    "    print(\"Generated Password:\")\n",
    "    print(password)\n",
    "\n",
    "if __name__ == \"__main__\":\n",
    "    main()"
   ]
  },
  {
   "cell_type": "code",
   "execution_count": null,
   "id": "39d46367-d6c7-4aa4-82ca-e5960b824fad",
   "metadata": {},
   "outputs": [],
   "source": []
  }
 ],
 "metadata": {
  "kernelspec": {
   "display_name": "Python 3 (ipykernel)",
   "language": "python",
   "name": "python3"
  },
  "language_info": {
   "codemirror_mode": {
    "name": "ipython",
    "version": 3
   },
   "file_extension": ".py",
   "mimetype": "text/x-python",
   "name": "python",
   "nbconvert_exporter": "python",
   "pygments_lexer": "ipython3",
   "version": "3.12.2"
  }
 },
 "nbformat": 4,
 "nbformat_minor": 5
}
