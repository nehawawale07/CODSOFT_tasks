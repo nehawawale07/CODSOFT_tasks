{
 "cells": [
  {
   "cell_type": "code",
   "execution_count": null,
   "id": "d3688562-2edb-40a9-abb6-224f5581ea5b",
   "metadata": {},
   "outputs": [
    {
     "name": "stdout",
     "output_type": "stream",
     "text": [
      "Contact Book Menu:\n",
      "1. Add Contact\n",
      "2. View Contact List\n",
      "3. Search Contact\n",
      "4. Update Contact\n",
      "5. Delete Contact\n",
      "6. Exit\n"
     ]
    },
    {
     "name": "stdin",
     "output_type": "stream",
     "text": [
      "Enter your choice:  1\n",
      "Enter name:  neha\n",
      "Enter phone number:  56567887899\n",
      "Enter email:  thgfbp@jk.com\n",
      "Enter address:  12.lol street,USA\n"
     ]
    },
    {
     "name": "stdout",
     "output_type": "stream",
     "text": [
      "Contact added successfully!\n",
      "Contact Book Menu:\n",
      "1. Add Contact\n",
      "2. View Contact List\n",
      "3. Search Contact\n",
      "4. Update Contact\n",
      "5. Delete Contact\n",
      "6. Exit\n"
     ]
    },
    {
     "name": "stdin",
     "output_type": "stream",
     "text": [
      "Enter your choice:  2\n"
     ]
    },
    {
     "name": "stdout",
     "output_type": "stream",
     "text": [
      "Contact List:\n",
      "1. neha - 56567887899\n",
      "Contact Book Menu:\n",
      "1. Add Contact\n",
      "2. View Contact List\n",
      "3. Search Contact\n",
      "4. Update Contact\n",
      "5. Delete Contact\n",
      "6. Exit\n"
     ]
    },
    {
     "name": "stdin",
     "output_type": "stream",
     "text": [
      "Enter your choice:  3\n",
      "Enter name or phone number to search:  neha\n"
     ]
    },
    {
     "name": "stdout",
     "output_type": "stream",
     "text": [
      "Search Results:\n",
      "1. neha - 56567887899\n",
      "Contact Book Menu:\n",
      "1. Add Contact\n",
      "2. View Contact List\n",
      "3. Search Contact\n",
      "4. Update Contact\n",
      "5. Delete Contact\n",
      "6. Exit\n"
     ]
    }
   ],
   "source": [
    "class Contact:\n",
    "    def __init__(self, name, phone_number, email, address):\n",
    "        self.name = name\n",
    "        self.phone_number = phone_number\n",
    "        self.email = email\n",
    "        self.address = address\n",
    "\n",
    "class ContactBook:\n",
    "    def __init__(self):\n",
    "        self.contacts = []\n",
    "\n",
    "    def add_contact(self):\n",
    "        name = input(\"Enter name: \")\n",
    "        phone_number = input(\"Enter phone number: \")\n",
    "        email = input(\"Enter email: \")\n",
    "        address = input(\"Enter address: \")\n",
    "        contact = Contact(name, phone_number, email, address)\n",
    "        self.contacts.append(contact)\n",
    "        print(\"Contact added successfully!\")\n",
    "\n",
    "    def view_contact_list(self):\n",
    "        if not self.contacts:\n",
    "            print(\"No contacts found.\")\n",
    "        else:\n",
    "            print(\"Contact List:\")\n",
    "            for i, contact in enumerate(self.contacts, start=1):\n",
    "                print(f\"{i}. {contact.name} - {contact.phone_number}\")\n",
    "\n",
    "    def search_contact(self):\n",
    "        search_term = input(\"Enter name or phone number to search: \")\n",
    "        found_contacts = [contact for contact in self.contacts if search_term in contact.name or search_term in contact.phone_number]\n",
    "        if not found_contacts:\n",
    "            print(\"No contacts found.\")\n",
    "        else:\n",
    "            print(\"Search Results:\")\n",
    "            for i, contact in enumerate(found_contacts, start=1):\n",
    "                print(f\"{i}. {contact.name} - {contact.phone_number}\")\n",
    "\n",
    "    def update_contact(self):\n",
    "        self.view_contact_list()\n",
    "        contact_index = int(input(\"Enter the contact number to update: \")) - 1\n",
    "        if contact_index < 0 or contact_index >= len(self.contacts):\n",
    "            print(\"Invalid contact number.\")\n",
    "        else:\n",
    "            contact = self.contacts[contact_index]\n",
    "            print(\"Enter new details (press enter to keep current value):\")\n",
    "            contact.name = input(f\"Name ({contact.name}): \") or contact.name\n",
    "            contact.phone_number = input(f\"Phone Number ({contact.phone_number}): \") or contact.phone_number\n",
    "            contact.email = input(f\"Email ({contact.email}): \") or contact.email\n",
    "            contact.address = input(f\"Address ({contact.address}): \") or contact.address\n",
    "            print(\"Contact updated successfully!\")\n",
    "\n",
    "    def delete_contact(self):\n",
    "        self.view_contact_list()\n",
    "        contact_index = int(input(\"Enter the contact number to delete: \")) - 1\n",
    "        if contact_index < 0 or contact_index >= len(self.contacts):\n",
    "            print(\"Invalid contact number.\")\n",
    "        else:\n",
    "            del self.contacts[contact_index]\n",
    "            print(\"Contact deleted successfully!\")\n",
    "\n",
    "def main():\n",
    "    contact_book = ContactBook()\n",
    "    while True:\n",
    "        print(\"Contact Book Menu:\")\n",
    "        print(\"1. Add Contact\")\n",
    "        print(\"2. View Contact List\")\n",
    "        print(\"3. Search Contact\")\n",
    "        print(\"4. Update Contact\")\n",
    "        print(\"5. Delete Contact\")\n",
    "        print(\"6. Exit\")\n",
    "        choice = input(\"Enter your choice: \")\n",
    "        if choice == \"1\":\n",
    "            contact_book.add_contact()\n",
    "        elif choice == \"2\":\n",
    "            contact_book.view_contact_list()\n",
    "        elif choice == \"3\":\n",
    "            contact_book.search_contact()\n",
    "        elif choice == \"4\":\n",
    "            contact_book.update_contact()\n",
    "        elif choice == \"5\":\n",
    "            contact_book.delete_contact()\n",
    "        elif choice == \"6\":\n",
    "            break\n",
    "        else:\n",
    "            print(\"Invalid choice. Please try again.\")\n",
    "\n",
    "if __name__ == \"__main__\":\n",
    "    main()"
   ]
  },
  {
   "cell_type": "code",
   "execution_count": null,
   "id": "eaa32e99-b2d5-4737-8195-0fdd4582d755",
   "metadata": {},
   "outputs": [],
   "source": []
  }
 ],
 "metadata": {
  "kernelspec": {
   "display_name": "Python 3 (ipykernel)",
   "language": "python",
   "name": "python3"
  },
  "language_info": {
   "codemirror_mode": {
    "name": "ipython",
    "version": 3
   },
   "file_extension": ".py",
   "mimetype": "text/x-python",
   "name": "python",
   "nbconvert_exporter": "python",
   "pygments_lexer": "ipython3",
   "version": "3.12.2"
  }
 },
 "nbformat": 4,
 "nbformat_minor": 5
}
