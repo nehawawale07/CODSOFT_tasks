{
 "cells": [
  {
   "cell_type": "code",
   "execution_count": 1,
   "id": "b85fcdfd-a30e-46a4-a9c9-26ef1896ae7b",
   "metadata": {},
   "outputs": [
    {
     "name": "stdout",
     "output_type": "stream",
     "text": [
      "Welcome to Rock, Paper, Scissors!\n",
      "-------------------------------\n"
     ]
    },
    {
     "name": "stdin",
     "output_type": "stream",
     "text": [
      "Enter your choice (rock, paper, or scissors):  paper\n"
     ]
    },
    {
     "name": "stdout",
     "output_type": "stream",
     "text": [
      "User choice: paper\n",
      "Computer choice: rock\n",
      "Result: User wins\n"
     ]
    },
    {
     "name": "stdin",
     "output_type": "stream",
     "text": [
      "Enter your choice (rock, paper, or scissors):  rock\n"
     ]
    },
    {
     "name": "stdout",
     "output_type": "stream",
     "text": [
      "Score: User 0, Computer 1\n"
     ]
    },
    {
     "name": "stdin",
     "output_type": "stream",
     "text": [
      "Do you want to play again? (yes/no):  scissors\n"
     ]
    }
   ],
   "source": [
    "import random\n",
    "\n",
    "def get_user_choice():\n",
    "    \"\"\"\n",
    "    Prompt the user to choose rock, paper, or scissors.\n",
    "    \"\"\"\n",
    "    while True:\n",
    "        user_choice = input(\"Enter your choice (rock, paper, or scissors): \").lower()\n",
    "        if user_choice in [\"rock\", \"paper\", \"scissors\"]:\n",
    "            return user_choice\n",
    "        else:\n",
    "            print(\"Invalid input. Please enter rock, paper, or scissors.\")\n",
    "\n",
    "def get_computer_choice():\n",
    "    \"\"\"\n",
    "    Generate a random choice (rock, paper, or scissors) for the computer.\n",
    "    \"\"\"\n",
    "    choices = [\"rock\", \"paper\", \"scissors\"]\n",
    "    return random.choice(choices)\n",
    "\n",
    "def determine_winner(user_choice, computer_choice):\n",
    "    \"\"\"\n",
    "    Determine the winner based on the user's choice and the computer's choice.\n",
    "    \"\"\"\n",
    "    if user_choice == computer_choice:\n",
    "        return \"Tie\"\n",
    "    elif (user_choice == \"rock\" and computer_choice == \"scissors\") or \\\n",
    "         (user_choice == \"scissors\" and computer_choice == \"paper\") or \\\n",
    "         (user_choice == \"paper\" and computer_choice == \"rock\"):\n",
    "        return \"User wins\"\n",
    "    else:\n",
    "        return \"Computer wins\"\n",
    "\n",
    "def play_game():\n",
    "    \"\"\"\n",
    "    Play a single round of Rock, Paper, Scissors.\n",
    "    \"\"\"\n",
    "    user_choice = get_user_choice()\n",
    "    computer_choice = get_computer_choice()\n",
    "    winner = determine_winner(user_choice, computer_choice)\n",
    "    print(f\"User choice: {user_choice}\")\n",
    "    print(f\"Computer choice: {computer_choice}\")\n",
    "    print(f\"Result: {winner}\")\n",
    "\n",
    "def play_multiple_rounds():\n",
    "    \"\"\"\n",
    "    Play multiple rounds of Rock, Paper, Scissors and keep track of scores.\n",
    "    \"\"\"\n",
    "    user_score = 0\n",
    "    computer_score = 0\n",
    "    while True:\n",
    "        play_game()\n",
    "        winner = determine_winner(get_user_choice(), get_computer_choice())\n",
    "        if winner == \"User wins\":\n",
    "            user_score += 1\n",
    "        elif winner == \"Computer wins\":\n",
    "            computer_score += 1\n",
    "        print(f\"Score: User {user_score}, Computer {computer_score}\")\n",
    "        play_again = input(\"Do you want to play again? (yes/no): \").lower()\n",
    "        if play_again != \"yes\":\n",
    "            break\n",
    "\n",
    "def main():\n",
    "    \"\"\"\n",
    "    Main function to play Rock, Paper, Scissors.\n",
    "    \"\"\"\n",
    "    print(\"Welcome to Rock, Paper, Scissors!\")\n",
    "    print(\"-------------------------------\")\n",
    "    play_multiple_rounds()\n",
    "\n",
    "if __name__ == \"__main__\":\n",
    "    main()"
   ]
  },
  {
   "cell_type": "code",
   "execution_count": null,
   "id": "ba28e2ee-2739-46d7-a040-6c115b4e7ac1",
   "metadata": {},
   "outputs": [],
   "source": []
  }
 ],
 "metadata": {
  "kernelspec": {
   "display_name": "Python 3 (ipykernel)",
   "language": "python",
   "name": "python3"
  },
  "language_info": {
   "codemirror_mode": {
    "name": "ipython",
    "version": 3
   },
   "file_extension": ".py",
   "mimetype": "text/x-python",
   "name": "python",
   "nbconvert_exporter": "python",
   "pygments_lexer": "ipython3",
   "version": "3.12.2"
  }
 },
 "nbformat": 4,
 "nbformat_minor": 5
}
